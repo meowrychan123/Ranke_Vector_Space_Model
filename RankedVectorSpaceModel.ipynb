{
  "cells": [
    {
      "cell_type": "markdown",
      "source": [
        "# **Import Libraries and NLTK Setups**"
      ],
      "metadata": {
        "id": "8TWS40jTnaTV"
      }
    },
    {
      "cell_type": "code",
      "source": [
        "import os\n",
        "import logging\n",
        "import math\n",
        "import numpy as np\n",
        "import nltk\n",
        "nltk . download ('stopwords')\n",
        "nltk . download ('punkt')\n",
        "nltk . download ('wordnet')\n",
        "import string\n",
        "import logging\n",
        "import re\n",
        "from collections import defaultdict , Counter\n",
        "from nltk . corpus import stopwords\n",
        "from nltk . tokenize import word_tokenize\n",
        "from nltk . stem import WordNetLemmatizer\n",
        "\n",
        "STOPWORDS = set( stopwords . words ('english') )\n",
        "LEMMATIZER = WordNetLemmatizer ()"
      ],
      "metadata": {
        "colab": {
          "base_uri": "https://localhost:8080/"
        },
        "id": "3fGokX-VSLLD",
        "outputId": "af7bb078-7069-453d-f276-1f160ec1d267"
      },
      "execution_count": null,
      "outputs": [
        {
          "output_type": "stream",
          "name": "stderr",
          "text": [
            "[nltk_data] Downloading package stopwords to /root/nltk_data...\n",
            "[nltk_data]   Package stopwords is already up-to-date!\n",
            "[nltk_data] Downloading package punkt to /root/nltk_data...\n",
            "[nltk_data]   Package punkt is already up-to-date!\n",
            "[nltk_data] Downloading package wordnet to /root/nltk_data...\n",
            "[nltk_data]   Package wordnet is already up-to-date!\n"
          ]
        }
      ]
    },
    {
      "cell_type": "markdown",
      "source": [
        "# **Loading Text Files**"
      ],
      "metadata": {
        "id": "vXNaRM2Jngnm"
      }
    },
    {
      "cell_type": "code",
      "execution_count": null,
      "metadata": {
        "id": "omBa-ps8e3VL"
      },
      "outputs": [],
      "source": [
        "def load_text_files(folder_path):\n",
        "    data = {}\n",
        "    doc_id_to_filename = {}\n",
        "    doc_id = 0\n",
        "    for filename in os.listdir(folder_path):\n",
        "        if filename.endswith(\".txt\"):\n",
        "            with open(os.path.join(folder_path, filename), 'r', encoding='utf-8') as file:\n",
        "                data[doc_id] = file.read()\n",
        "                doc_id_to_filename[doc_id] = filename\n",
        "                logging.info(f\"Loaded file: {filename} with doc_id: {doc_id}\")\n",
        "                doc_id += 1\n",
        "    return data, doc_id_to_filename"
      ]
    },
    {
      "cell_type": "markdown",
      "source": [
        "# **Tokenization**"
      ],
      "metadata": {
        "id": "6ILw0hVIoiLr"
      }
    },
    {
      "cell_type": "code",
      "source": [
        "def tokenize(text):\n",
        "    return text.lower().split()"
      ],
      "metadata": {
        "id": "DWpzwTZgSSgd"
      },
      "execution_count": null,
      "outputs": []
    },
    {
      "cell_type": "markdown",
      "source": [
        "# **Text Cleaning Process**"
      ],
      "metadata": {
        "id": "OoP1KV1BosSA"
      }
    },
    {
      "cell_type": "code",
      "source": [
        "def clean_text(text):\n",
        "    text = text.lower()\n",
        "    text = re.sub(r\"[^a-zA-Z0-9\\s]\", \"\", text)\n",
        "    tokens = toke(text)\n",
        "    cleaned_tokens = [LEMMATIZER.lemmatize(word) for word in tokens if word not in STOPWORDS]\n",
        "    return cleaned_tokens"
      ],
      "metadata": {
        "id": "1My9EX-OZjzW"
      },
      "execution_count": null,
      "outputs": []
    },
    {
      "cell_type": "markdown",
      "source": [
        "# **Term Frequency (TF)**"
      ],
      "metadata": {
        "id": "eoHKbjhQozst"
      }
    },
    {
      "cell_type": "code",
      "execution_count": null,
      "metadata": {
        "id": "Sm3V3ahVf171"
      },
      "outputs": [],
      "source": [
        "def term_frequency(term, document):\n",
        "    return document.count(term) / len(document)"
      ]
    },
    {
      "cell_type": "markdown",
      "source": [
        "# **Inverse Document Frequency (IDF)**"
      ],
      "metadata": {
        "id": "W6jYX8eso6FS"
      }
    },
    {
      "cell_type": "code",
      "execution_count": null,
      "metadata": {
        "id": "UPJIUQi9Nd2e"
      },
      "outputs": [],
      "source": [
        "def inverse_document_frequency(term, all_documents):\n",
        "    num_docs_containing_term = sum(1 for doc in all_documents if term in doc)\n",
        "    return math.log(len(all_documents) / (1 + num_docs_containing_term))"
      ]
    },
    {
      "cell_type": "markdown",
      "source": [
        "# **Computing TF-IDF**"
      ],
      "metadata": {
        "id": "7O0_C5t6pw1c"
      }
    },
    {
      "cell_type": "code",
      "execution_count": null,
      "metadata": {
        "id": "3uxBkuuYNpis"
      },
      "outputs": [],
      "source": [
        "def compute_tfidf(document, all_documents, vocab):\n",
        "    tfidf_vector = []\n",
        "    for term in vocab:\n",
        "        tf = term_frequency(term, document)\n",
        "        idf = inverse_document_frequency(term, all_documents)\n",
        "        tfidf_vector.append(tf * idf)\n",
        "    return np.array(tfidf_vector)"
      ]
    },
    {
      "cell_type": "markdown",
      "source": [
        "# **Cosine Similarity**"
      ],
      "metadata": {
        "id": "8eQZPlUTp3qq"
      }
    },
    {
      "cell_type": "code",
      "execution_count": null,
      "metadata": {
        "id": "pvbiLylVNyae"
      },
      "outputs": [],
      "source": [
        "def cosine_similarity(vec1, vec2):\n",
        "    dot_product = np.dot(vec1, vec2)\n",
        "    norm_vec1 = np.linalg.norm(vec1)\n",
        "    norm_vec2 = np.linalg.norm(vec2)\n",
        "    return dot_product / (norm_vec1 * norm_vec2) if norm_vec1 * norm_vec2 != 0 else 0"
      ]
    },
    {
      "cell_type": "markdown",
      "source": [
        "# **Processing Queries**"
      ],
      "metadata": {
        "id": "-EfZ3IGGqElY"
      }
    },
    {
      "cell_type": "code",
      "source": [
        "import os\n",
        "import logging\n",
        "\n",
        "def process_queries(queries, tokenized_docs, doc_tfidf_vectors, vocab):\n",
        "    results = []\n",
        "    for query in queries:\n",
        "        tokenized_query = tokenize(query)\n",
        "        query_tfidf_vector = compute_tfidf(tokenized_query, tokenized_docs, vocab)\n",
        "\n",
        "        similarities = []\n",
        "        for doc_id, doc_vector in enumerate(doc_tfidf_vectors):\n",
        "            similarity = cosine_similarity(query_tfidf_vector, doc_vector)\n",
        "            similarities.append((doc_id, similarity))\n",
        "\n",
        "\n",
        "        similarities.sort(key=lambda x: x[1], reverse=True)\n",
        "\n",
        "        results.append((query, similarities))\n",
        "        print(results)\n",
        "    return results"
      ],
      "metadata": {
        "id": "STXIWKSiUQNx"
      },
      "execution_count": null,
      "outputs": []
    },
    {
      "cell_type": "markdown",
      "source": [
        "# **Queries Result Files**"
      ],
      "metadata": {
        "id": "OryBlCKuqQYL"
      }
    },
    {
      "cell_type": "code",
      "source": [
        "def write_queries_to_file(results, doc_id_to_filename, output_folder):\n",
        "\n",
        "    if not os.path.exists(output_folder):\n",
        "        os.makedirs(output_folder)\n",
        "\n",
        "    output_file = os.path.join(output_folder, \"Krishma.txt\")\n",
        "    with open(output_file, 'w', encoding='utf-8') as f:\n",
        "        for query, similarities in results:\n",
        "            f.write(f\"Query: {query}\\n\")\n",
        "            for doc_id, similarity in similarities:\n",
        "                filename = doc_id_to_filename[doc_id]\n",
        "                f.write(f\"  Document: {filename}, Similarity: {similarity:.4f}\\n\")\n",
        "            f.write(\"\\n\")\n",
        "\n",
        "    logging.info(f\"Results written to {output_file}\")"
      ],
      "metadata": {
        "id": "PNMeslPgWrf9"
      },
      "execution_count": null,
      "outputs": []
    },
    {
      "cell_type": "markdown",
      "source": [
        "# **Converting doc_ids to Filenames**"
      ],
      "metadata": {
        "id": "KeYOchQeqLu5"
      }
    },
    {
      "cell_type": "code",
      "source": [
        "def convert_doc_ids_to_filenames(doc_ids, doc_id_to_filename):\n",
        "    return [doc_id_to_filename[doc_id] for doc_id in doc_ids]"
      ],
      "metadata": {
        "id": "fpZdCq6iWx7o"
      },
      "execution_count": null,
      "outputs": []
    },
    {
      "cell_type": "code",
      "execution_count": null,
      "metadata": {
        "id": "ePTgR6QGOBht",
        "colab": {
          "base_uri": "https://localhost:8080/"
        },
        "outputId": "9966c60e-fb4e-43b5-96b2-235f3889bffc"
      },
      "outputs": [
        {
          "output_type": "stream",
          "name": "stdout",
          "text": [
            "None\n",
            "[('reality', [(6, 0.3735594835597145), (0, 0.0), (1, 0.0), (2, 0.0), (3, 0.0), (4, 0.0), (5, 0.0), (7, 0.0), (8, 0.0), (9, 0.0)])]\n",
            "[('reality', [(6, 0.3735594835597145), (0, 0.0), (1, 0.0), (2, 0.0), (3, 0.0), (4, 0.0), (5, 0.0), (7, 0.0), (8, 0.0), (9, 0.0)]), ('human intelligence', [(7, 0.18930734908641253), (1, 0.15302451616896698), (0, 0.0), (2, 0.0), (3, 0.0), (4, 0.0), (5, 0.0), (6, 0.0), (8, 0.0), (9, 0.0)])]\n",
            "[('reality', [(6, 0.3735594835597145), (0, 0.0), (1, 0.0), (2, 0.0), (3, 0.0), (4, 0.0), (5, 0.0), (7, 0.0), (8, 0.0), (9, 0.0)]), ('human intelligence', [(7, 0.18930734908641253), (1, 0.15302451616896698), (0, 0.0), (2, 0.0), (3, 0.0), (4, 0.0), (5, 0.0), (6, 0.0), (8, 0.0), (9, 0.0)]), ('death', [(3, 0.21544876847386502), (0, 0.0), (1, 0.0), (2, 0.0), (4, 0.0), (5, 0.0), (6, 0.0), (7, 0.0), (8, 0.0), (9, 0.0)])]\n",
            "[('reality', [(6, 0.3735594835597145), (0, 0.0), (1, 0.0), (2, 0.0), (3, 0.0), (4, 0.0), (5, 0.0), (7, 0.0), (8, 0.0), (9, 0.0)]), ('human intelligence', [(7, 0.18930734908641253), (1, 0.15302451616896698), (0, 0.0), (2, 0.0), (3, 0.0), (4, 0.0), (5, 0.0), (6, 0.0), (8, 0.0), (9, 0.0)]), ('death', [(3, 0.21544876847386502), (0, 0.0), (1, 0.0), (2, 0.0), (4, 0.0), (5, 0.0), (6, 0.0), (7, 0.0), (8, 0.0), (9, 0.0)]), ('hope', [(0, 0), (1, 0), (2, 0), (3, 0), (4, 0), (5, 0), (6, 0), (7, 0), (8, 0), (9, 0)])]\n",
            "[('reality', [(6, 0.3735594835597145), (0, 0.0), (1, 0.0), (2, 0.0), (3, 0.0), (4, 0.0), (5, 0.0), (7, 0.0), (8, 0.0), (9, 0.0)]), ('human intelligence', [(7, 0.18930734908641253), (1, 0.15302451616896698), (0, 0.0), (2, 0.0), (3, 0.0), (4, 0.0), (5, 0.0), (6, 0.0), (8, 0.0), (9, 0.0)]), ('death', [(3, 0.21544876847386502), (0, 0.0), (1, 0.0), (2, 0.0), (4, 0.0), (5, 0.0), (6, 0.0), (7, 0.0), (8, 0.0), (9, 0.0)]), ('hope', [(0, 0), (1, 0), (2, 0), (3, 0), (4, 0), (5, 0), (6, 0), (7, 0), (8, 0), (9, 0)]), ('time life happiness', [(5, 0.15634659805929688), (0, 0.13694569827822417), (2, 0.08128286938762874), (4, 0.04126383149776709), (3, 0.033920370572233786), (8, 0.029282319256574704), (1, 0.0), (6, 0.0), (7, 0.0), (9, 0.0)])]\n"
          ]
        }
      ],
      "source": [
        "def main():\n",
        "    folder_path = \"/content/drive/MyDrive/Week2assignment(IRS)\"\n",
        "\n",
        "    docs, doc_id_to_filename = load_text_files(folder_path)\n",
        "\n",
        "    queries = [\"reality\", \"human intelligence\", \"death\", \"hope\", \"time life happiness\"]\n",
        "\n",
        "\n",
        "    tokenized_docs = [tokenize(doc) for doc in docs.values()]\n",
        "    vocab = sorted(set(word for doc in tokenized_docs for word in doc))\n",
        "    print(logging.info(f\"Vocabulary size: {len(vocab)}\"))\n",
        "\n",
        "    doc_tfidf_vectors = [compute_tfidf(doc, tokenized_docs, vocab) for doc in tokenized_docs]\n",
        "\n",
        "\n",
        "    results = process_queries(queries, tokenized_docs, doc_tfidf_vectors, vocab)\n",
        "\n",
        "\n",
        "    output_folder = \"/content/drive/MyDrive/Resultfrom_queries\"\n",
        "\n",
        "\n",
        "    write_queries_to_file(results, doc_id_to_filename, output_folder)\n",
        "\n",
        "if __name__ == \"__main__\":\n",
        "    main()"
      ]
    }
  ],
  "metadata": {
    "colab": {
      "provenance": []
    },
    "kernelspec": {
      "display_name": "Python 3",
      "name": "python3"
    },
    "language_info": {
      "name": "python"
    }
  },
  "nbformat": 4,
  "nbformat_minor": 0
}